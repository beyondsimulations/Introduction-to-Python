{
  "cells": [
    {
      "cell_type": "markdown",
      "metadata": {},
      "source": [
        "---\n",
        "title: \"Tutorial VI - Using Modules and Packages\"\n",
        "subtitle: \"Programming with Python\"\n",
        "\n",
        "format:\n",
        "    html:\n",
        "        theme: litera\n",
        "        highlight-style: arrow\n",
        "        linkcolor: \"#a60000\"\n",
        "        code-copy: true\n",
        "        code-link: true\n",
        "        toc: true\n",
        "        toc-location: right\n",
        "        code-overflow: wrap\n",
        "    pdf: \n",
        "        documentclass: report\n",
        "        geometry:\n",
        "            - margin=1in\n",
        "        fontfamily: roboto\n",
        "        fontfamilyoptions: sfdefault\n",
        "        colorlinks: true\n",
        "---\n",
        "\n",
        "\n",
        "\n",
        "\n",
        "\n",
        "\n",
        "## Scrambled Word Game\n",
        "\n",
        "In this task, we will implement a simple game where the user has to guess a scrambled word. Again, we will use the methods we have learned so far: string methods, list methods, random module, and conditional statements.\n"
      ],
      "id": "176c8433"
    },
    {
      "cell_type": "code",
      "metadata": {},
      "source": [
        "# TODO: Write the code for a small game\n",
        "# The game should work as follows:\n",
        "# - The computer selects a word from a list of words\n",
        "# - The computer scrambles the word and shows it to the user\n",
        "# - The user has to guess the word and has three guesses\n",
        "# - The user gets feedback on whether their guess is correct or not\n",
        "# - The computer tells the user how many guesses they used\n",
        "\n",
        "# List of words to choose from for the game\n",
        "words = [\"python\", \"programming\", \"computer\", \"algorithm\", \"database\"]\n",
        "\n",
        "# Hint: Use the random.choice() function to select a word from the list and try to come up with the rest of the code yourself!\n",
        "\n",
        "import random\n",
        "\n",
        "def scramble_word(word):\n",
        "    # Convert the word to a list of characters, shuffle them, and join back into a string\n",
        "    chars = list(word)\n",
        "    # Your code to shuffle the list here!\n",
        "    return ''.join(chars)\n",
        "\n",
        "# Your code here"
      ],
      "id": "7643b9c5",
      "execution_count": null,
      "outputs": []
    },
    {
      "cell_type": "markdown",
      "metadata": {},
      "source": [
        "## Custom Modules\n",
        "\n",
        "Here we will practice how to create our own modules and use them in our scripts. Our objective is to create a small module that contains a few functions for a calculator.\n"
      ],
      "id": "441dc88b"
    },
    {
      "cell_type": "code",
      "metadata": {},
      "source": [
        "#| eval: false\n",
        "# TODO: Create a new module called calculator.py\n",
        "# The module should contain at least four functions: \n",
        "# add, subtract, multiply, and divide\n",
        "# Afterward, the following code should work:\n",
        "\n",
        "import calculator as calc\n",
        "\n",
        "assert calc.add(2, 3) == 5\n",
        "assert calc.subtract(5, 1) == 4\n",
        "assert calc.multiply(4, 7) == 28\n",
        "assert calc.divide(10, 2) == 5\n",
        "\n",
        "print(\"Wonderful, all tests passed!\")"
      ],
      "id": "fe19f075",
      "execution_count": null,
      "outputs": []
    },
    {
      "cell_type": "markdown",
      "metadata": {},
      "source": [
        "## Random Package\n",
        "\n",
        "Do you remember the random number guessing game from previous tutorials? We will now use the random package to implement a small version of it without any game master.\n"
      ],
      "id": "6f49a127"
    },
    {
      "cell_type": "code",
      "metadata": {},
      "source": [
        "#| eval: false\n",
        "# TODO: Implement a random number guessing game.\n",
        "# The game should work as follows:\n",
        "# - The computer selects a random number between 1 and 10\n",
        "# - The user has to guess the number and has three guesses\n",
        "# - The computer tells the user whether their guess is too high, too low, or correct\n",
        "# - The computer should also print how many guesses the user made before guessing the number correctly\n",
        "# - It should also ask the user if they want to play again\n",
        "# Your code here"
      ],
      "id": "4fec8992",
      "execution_count": null,
      "outputs": []
    },
    {
      "cell_type": "markdown",
      "metadata": {},
      "source": [
        "## Regular Expressions\n",
        "\n",
        "In the last task, we will practice how to use regular expressions to match patterns in text. Imagine you are an overworked consultant and you have the task to extract all dates from a text.\n"
      ],
      "id": "95593cee"
    },
    {
      "cell_type": "code",
      "metadata": {},
      "source": [
        "#| eval: false\n",
        "# TODO: Try to extract all dates in the text below:\n",
        "text = \"\"\"\n",
        "Here is a date: 12.03.2024. Here is another one: 01/01/2024. And here is the third one: 2024-01-01.\n",
        "Let's add more: 15-04-2023, 16/05/2023, and 17.06.2023. \n",
        "In July, we have 18/07/2023 and 19-07-2023. \n",
        "August brings us 20.08.2023 and 21/08/2023. \n",
        "September dates include 22-09-2023 and 23.09.2023. \n",
        "October has 24/10/2023 and 25-10-2023. \n",
        "November features 26.11.2023 and 27/11/2023. \n",
        "Finally, December rounds out the year with 28-12-2023 and 29.12.2023.\n",
        "\n",
        "Continuing with more dates: \n",
        "01-01-2025, 02/02/2025, 03.03.2025, 04-04-2025, 05/05/2025, 06.06.2025, \n",
        "07-07-2025, 08/08/2025, 09.09.2025, 10-10-2025, 11/11/2025, 12.12.2025.\n",
        "\n",
        "Even more dates: \n",
        "13-01-2026, 14/02/2026, 15.03.2026, 16-04-2026, 17/05/2026, 18.06.2026, \n",
        "19-07-2026, 20/08/2026, 21.09.2026, 22-10-2026, 23/11/2026, 24.12.2026.\n",
        "\n",
        "And some more: \n",
        "25-01-2027, 26/02/2027, 27.03.2027, 28-04-2027, 29/05/2027, 30.06.2027, \n",
        "01-07-2027, 02/08/2027, 03.09.2027, 04-10-2027, 05/11/2027, 06.12.2027.\n",
        "\"\"\"\n",
        "\n",
        "# Your code here"
      ],
      "id": "02bad3bb",
      "execution_count": null,
      "outputs": []
    },
    {
      "cell_type": "markdown",
      "metadata": {},
      "source": [
        "## A better Password Strength Checker\n",
        "\n",
        "In this task, we will implement an improved password strength checker. We can use and practice all methods we have learned so far: string methods, regular expressions, and conditional statements.\n"
      ],
      "id": "99b0ce30"
    },
    {
      "cell_type": "code",
      "metadata": {},
      "source": [
        "# TODO: Implement a new password strength checker\n",
        "# Check for:\n",
        "# - Minimum length of 8 characters\n",
        "# - At least one uppercase letter\n",
        "# - At least one lowercase letter\n",
        "# - At least one digit\n",
        "# - At least one special character (!@#$%^&*)\n",
        "# Return \"Weak\" if no criteria is met, \"Medium\" if at least 3 criteria are met, \"Strong\" if all criteria are met\n",
        "\n",
        "# Test your function\n",
        "print(check_password_strength(\"abc123\"))  # Should return \"Weak\"\n",
        "print(check_password_strength(\"Str0ngP@ssw0rd\"))  # Should return \"Strong\"\n",
        "print(check_password_strength(\"Password123\"))  # Should return \"Medium\""
      ],
      "id": "61eb72de",
      "execution_count": null,
      "outputs": []
    },
    {
      "cell_type": "markdown",
      "metadata": {},
      "source": [
        "# That's it!\n",
        "You can find the solutions to these exercises online in the associated GitHub repository, but we will also quickly go over them in next week's tutorial. To access the solutions, click on the Github button on the lower right and search for the folder with today's lecture and tutorial. Alternatively, you can ask ChatGPT or Claude to explain them to you. Remember, the goal is not just to complete the exercises, but to understand the concepts and improve your programming abilities.\n"
      ],
      "id": "123fab5e"
    }
  ],
  "metadata": {
    "kernelspec": {
      "name": "python3",
      "language": "python",
      "display_name": "Python 3 (ipykernel)",
      "path": "/Users/tvlcek/Library/Python/3.12/share/jupyter/kernels/python3"
    }
  },
  "nbformat": 4,
  "nbformat_minor": 5
}